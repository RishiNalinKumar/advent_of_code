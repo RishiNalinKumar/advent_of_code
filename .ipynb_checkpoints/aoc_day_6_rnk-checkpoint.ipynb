{
 "cells": [
  {
   "cell_type": "markdown",
   "metadata": {},
   "source": [
    "###### "
   ]
  },
  {
   "cell_type": "markdown",
   "metadata": {},
   "source": [
    "# Advent of Code Day 6"
   ]
  },
  {
   "cell_type": "code",
   "execution_count": null,
   "metadata": {
    "collapsed": true
   },
   "outputs": [],
   "source": [
    "def generate_memory_bank_loop(memory_banks):\n",
    "\n",
    "    loop=[]; loop+=[np.loadtxt(file,dtype=int).tolist()]; counter = 1;\n",
    "    while True:\n",
    "        memory_banks = shuffle_blocks(memory_banks);\n",
    "        if memory_banks.tolist() in loop:\n",
    "            break\n",
    "        else:\n",
    "            loop+=[memory_banks.tolist()];\n",
    "            counter+=1;\n",
    "\n",
    "    return loop\n",
    "\n",
    "def shuffle_blocks(memory_banks):\n",
    "    l = len(memory_banks); pointer = memory_banks.argmax()\n",
    "    distr_blocks = memory_banks[pointer];\n",
    "    memory_banks[pointer]=0; counter = pointer+1;\n",
    "    while distr_blocks>0:\n",
    "        memory_banks[counter%l]+=1;\n",
    "        distr_blocks-=1; counter+=1;\n",
    "    return memory_banks"
   ]
  },
  {
   "cell_type": "code",
   "execution_count": null,
   "metadata": {
    "collapsed": true
   },
   "outputs": [],
   "source": [
    "file= 'data/2017_advent_of_code_day_6.txt'\n",
    "memory_banks = np.loadtxt(file,dtype=int)\n",
    "loop = generate_memory_bank_loop(memory_banks)\n",
    "print(\"redistribution cycles: \" + str(len(loop)));\n",
    "print(\"cycle length: \" + str(len(generate_memory_bank_loop(np.asarray(memory_banks)))-1))"
   ]
  }
 ],
 "metadata": {
  "kernelspec": {
   "display_name": "Python 3",
   "language": "python",
   "name": "python3"
  },
  "language_info": {
   "codemirror_mode": {
    "name": "ipython",
    "version": 3
   },
   "file_extension": ".py",
   "mimetype": "text/x-python",
   "name": "python",
   "nbconvert_exporter": "python",
   "pygments_lexer": "ipython3",
   "version": "3.6.2"
  }
 },
 "nbformat": 4,
 "nbformat_minor": 2
}
