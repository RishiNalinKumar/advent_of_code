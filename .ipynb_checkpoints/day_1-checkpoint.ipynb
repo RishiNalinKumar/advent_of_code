{
 "cells": [
  {
   "cell_type": "markdown",
   "metadata": {},
   "source": [
    "# --- Day 1: Inverse Captcha ---"
   ]
  },
  {
   "cell_type": "code",
   "execution_count": null,
   "metadata": {
    "collapsed": true
   },
   "outputs": [],
   "source": [
    "def sum_duplicates(number_string,dist):\n",
    "    total = 0; \n",
    "    nums = list(str(number_string));\n",
    "    nums +=nums;\n",
    "    for i in range(0,len(str(number_string))):\n",
    "        if nums[i]==nums[i+dist]:\n",
    "            total += int(nums[i]);\n",
    "    return total"
   ]
  },
  {
   "cell_type": "code",
   "execution_count": null,
   "metadata": {
    "collapsed": true
   },
   "outputs": [],
   "source": [
    "#unit_testing_part_1\n",
    "tests = [['1122',3],['1111',4],[1234,0],[91212129,9]]\n",
    "errors=0\n",
    "for test in tests: \n",
    "    dist = 1\n",
    "    result = sum_duplicates(test[0],dist)\n",
    "    if not(result==test[1]):\n",
    "        errors+=1\n",
    "print(errors)"
   ]
  },
  {
   "cell_type": "code",
   "execution_count": null,
   "metadata": {
    "collapsed": true
   },
   "outputs": [],
   "source": [
    "#unit_testing_part_2\n",
    "tests = [['1212',6],['1221',0],[123425,4],[123123,12],[12131415,4]]\n",
    "errors=0\n",
    "for test in tests: \n",
    "    dist = int(len(str(test[0]))/2)\n",
    "    result = sum_duplicates(test[0],dist)\n",
    "    if not(result==test[1]):\n",
    "        errors+=1\n",
    "print(errors)"
   ]
  },
  {
   "cell_type": "code",
   "execution_count": null,
   "metadata": {
    "collapsed": true
   },
   "outputs": [],
   "source": [
    "file = 'data/2017_advent_of_code_day_1.txt'\n",
    "number_string = open(file, 'r').read()\n",
    "dist = 1;\n",
    "print(\"next captha: \" + str(sum_duplicates(number_string,dist)))\n",
    "      \n",
    "dist = int(len(str(number_string))/2);\n",
    "print(\"halfway around captcha: \" + str(sum_duplicates(number_string,dist)))"
   ]
  },
  {
   "cell_type": "code",
   "execution_count": null,
   "metadata": {
    "collapsed": true
   },
   "outputs": [],
   "source": []
  }
 ],
 "metadata": {
  "kernelspec": {
   "display_name": "Python 3",
   "language": "python",
   "name": "python3"
  },
  "language_info": {
   "codemirror_mode": {
    "name": "ipython",
    "version": 3
   },
   "file_extension": ".py",
   "mimetype": "text/x-python",
   "name": "python",
   "nbconvert_exporter": "python",
   "pygments_lexer": "ipython3",
   "version": "3.6.2"
  }
 },
 "nbformat": 4,
 "nbformat_minor": 2
}
