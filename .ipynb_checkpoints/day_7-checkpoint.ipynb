{
 "cells": [
  {
   "cell_type": "markdown",
   "metadata": {},
   "source": [
    "# --- Day 7: Recursive Circus ---"
   ]
  },
  {
   "cell_type": "code",
   "execution_count": 5,
   "metadata": {},
   "outputs": [],
   "source": [
    "import re\n",
    "\n",
    "def construct_json_network(network_nodes):\n",
    "    N = {};\n",
    "    for n in network_nodes:    \n",
    "        node=n.split('->');\n",
    "        name = re.sub(r'[\\d()\\s+]', '', node[0]);\n",
    "        weight = re.sub(r'[^\\d]', '', node[0]);\n",
    "        if name not in N:\n",
    "            N[name]={};\n",
    "        N[name]['w']=int(weight);\n",
    "        if len(node)>1:\n",
    "            children = re.sub(r'[\\s+]','',node[1]).split(',');\n",
    "            N[name]['c']=children;\n",
    "            for c_name in children:\n",
    "                if c_name not in N:\n",
    "                    N[c_name]={};\n",
    "                N[str(c_name)]['p']=name;    \n",
    "    return N\n",
    "\n",
    "def find_tree_top(network_nodes):\n",
    "    for node in network:\n",
    "        if 'p' not in network[node]:\n",
    "            r = node; break;\n",
    "    return r\n",
    "\n",
    "def sum_branch_total(network,branch):\n",
    "    total = int(network[branch]['w']);\n",
    "    if 'c' in network[branch]:\n",
    "        for children in network[branch]['c']:\n",
    "            total+=int(sum_branch_total(network,children));        \n",
    "    return total\n",
    "\n",
    "def compute_tree_load_balance(network,branch):\n",
    "    loads = {};\n",
    "    if 'c' in network[branch]:\n",
    "        for children in network[branch]['c']:\n",
    "            loads[children]=int(sum_branch_total(network,children));\n",
    "    return loads\n",
    "\n",
    "def check_branch_balance(network,branch):\n",
    "    unbalanced = True;\n",
    "    off_by = 0;\n",
    "    while unbalanced:\n",
    "        loads = compute_tree_load_balance(network,branch);\n",
    "        balance_report = generate_balance_report(loads);\n",
    "        if 'unbalanced' in balance_report:\n",
    "            off_by = balance_report['off_by'];\n",
    "            branch = balance_report['unbalanced'];\n",
    "            check_branch_balance(network,branch)\n",
    "        else:\n",
    "            unbalanced = False \n",
    "    return branch,network[branch]['w'],network[branch]['w']-off_by\n",
    "\n",
    "def generate_balance_report(loads):\n",
    "    r = {};\n",
    "    unbalanced = None;    \n",
    "    for node,weight in loads.items():\n",
    "        counter = 0;\n",
    "        for n_0,w_0 in loads.items():\n",
    "            if w_0!=weight:\n",
    "                counter +=1;\n",
    "            if counter>2: \n",
    "                diff = weight-w_0;\n",
    "                unbalanced = node;\n",
    "    if unbalanced is not None:\n",
    "        r = {'unbalanced': str(unbalanced), 'off_by': int(diff)};        \n",
    "    return r"
   ]
  },
  {
   "cell_type": "code",
   "execution_count": 6,
   "metadata": {},
   "outputs": [
    {
     "name": "stdout",
     "output_type": "stream",
     "text": [
      "Top of the tree: fbgguv\n",
      "correction: ('jdxfsa', 1869, 1864)\n"
     ]
    }
   ],
   "source": [
    "file = 'data/2017_advent_of_code_day_7.txt'\n",
    "network_nodes= open(file, 'r').read().split('\\n');\n",
    "network = construct_json_network(network_nodes);\n",
    "\n",
    "tree_top = find_tree_top(network);\n",
    "print(\"Top of the tree: \" + tree_top);\n",
    "print(\"correction: \" + str(check_branch_balance(network,tree_top)))"
   ]
  },
  {
   "cell_type": "code",
   "execution_count": null,
   "metadata": {
    "collapsed": true
   },
   "outputs": [],
   "source": []
  }
 ],
 "metadata": {
  "kernelspec": {
   "display_name": "Python 3",
   "language": "python",
   "name": "python3"
  },
  "language_info": {
   "codemirror_mode": {
    "name": "ipython",
    "version": 3
   },
   "file_extension": ".py",
   "mimetype": "text/x-python",
   "name": "python",
   "nbconvert_exporter": "python",
   "pygments_lexer": "ipython3",
   "version": "3.6.2"
  }
 },
 "nbformat": 4,
 "nbformat_minor": 2
}
