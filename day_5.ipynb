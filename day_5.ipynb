{
 "cells": [
  {
   "cell_type": "markdown",
   "metadata": {},
   "source": [
    "# --- Day 5: A Maze of Twisty Trampolines, All Alike ---"
   ]
  },
  {
   "cell_type": "code",
   "execution_count": 10,
   "metadata": {
    "collapsed": true
   },
   "outputs": [],
   "source": [
    "def count_steps_to_pop_out(instructions,exception):\n",
    "    l = len(instructions); steps = 0; index = 0;\n",
    "    while (index<l) and (index>-1): \n",
    "        pluck = int(instructions[index]);\n",
    "        if (pluck >=3 and exception):\n",
    "            offset=-1;\n",
    "        else:\n",
    "            offset=1;\n",
    "        instructions[index]=pluck+offset;\n",
    "        index += pluck;\n",
    "        steps+=1;\n",
    "    return steps;"
   ]
  },
  {
   "cell_type": "code",
   "execution_count": 11,
   "metadata": {},
   "outputs": [
    {
     "name": "stdout",
     "output_type": "stream",
     "text": [
      "0\n"
     ]
    }
   ],
   "source": [
    "#unit_testing\n",
    "tests = [[list([0,3, 0, 1 ,-3]),10]];\n",
    "errors=0;\n",
    "special_threes = True;\n",
    "for test in tests: \n",
    "    result = count_steps_to_pop_out(test[0],special_threes);\n",
    "    if not(result==test[1]):\n",
    "        errors+=1\n",
    "print(errors);"
   ]
  },
  {
   "cell_type": "code",
   "execution_count": null,
   "metadata": {
    "collapsed": true
   },
   "outputs": [],
   "source": [
    "file = 'data/2017_advent_of_code_day_5.txt'\n",
    "instructions = open(file, 'r').read().split('\\n');\n",
    "special_threes= False;\n",
    "print(\"Steps: \" + str(count_steps_to_pop_out(instructions,special_threes)))\n",
    "\n",
    "file = 'data/2017_advent_of_code_day_5.txt'\n",
    "instructions = open(file, 'r').read().split('\\n');\n",
    "special_threes= True;\n",
    "print(\"Steps: \" + str(count_steps_to_pop_out(instructions,special_threes)))"
   ]
  }
 ],
 "metadata": {
  "kernelspec": {
   "display_name": "Python 3",
   "language": "python",
   "name": "python3"
  },
  "language_info": {
   "codemirror_mode": {
    "name": "ipython",
    "version": 3
   },
   "file_extension": ".py",
   "mimetype": "text/x-python",
   "name": "python",
   "nbconvert_exporter": "python",
   "pygments_lexer": "ipython3",
   "version": "3.6.2"
  }
 },
 "nbformat": 4,
 "nbformat_minor": 2
}
