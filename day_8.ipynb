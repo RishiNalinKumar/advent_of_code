{
 "cells": [
  {
   "cell_type": "markdown",
   "metadata": {},
   "source": [
    "# --- Day 8: I Heard You Like Registers ---"
   ]
  },
  {
   "cell_type": "code",
   "execution_count": 55,
   "metadata": {
    "collapsed": true
   },
   "outputs": [],
   "source": [
    "def update_registers(registers,instructions):\n",
    "    \n",
    "    largest = 0;\n",
    "    for instruction in instructions:\n",
    "        i = instruction.split(' ');\n",
    "        for j in [0,4]:\n",
    "            if not(i[j] in registers):\n",
    "                registers[str(i[j])] = 0;  \n",
    "        if check_condition(registers[i[4]],i[5],int(i[6])):\n",
    "            v = update_register_value(registers[i[0]],i[1],int(i[2]));\n",
    "            registers[i[0]]=v;\n",
    "            if v>largest:\n",
    "                largest = v;\n",
    "    print(largest)\n",
    "    return registers\n",
    "\n",
    "def check_condition(v1,o,v2):\n",
    "    r = False\n",
    "    if o in ['>=','>']:\n",
    "        r = (v1>v2);\n",
    "    elif o in ['<=','<']:\n",
    "        r = (v1<v2);\n",
    "    elif o in ['!=']:\n",
    "        r = (v1!=v2);\n",
    "    if not(r) and (o in ['>=','<=','==']):\n",
    "        r = (v1==v2);    \n",
    "    return r\n",
    "\n",
    "def update_register_value(v1,o,v2):\n",
    "    if o=='inc':\n",
    "        v1+=v2;\n",
    "    elif o=='dec':\n",
    "        v1-=v2;\n",
    "    return v1"
   ]
  },
  {
   "cell_type": "code",
   "execution_count": 56,
   "metadata": {},
   "outputs": [
    {
     "name": "stdout",
     "output_type": "stream",
     "text": [
      "5035\n",
      "3880\n"
     ]
    }
   ],
   "source": [
    "file = 'data/2017_advent_of_code_day_8.txt'\n",
    "instructions = open(file, 'r').read().split('\\n');\n",
    "\n",
    "registers = {};\n",
    "registers = update_registers(registers,instructions)\n",
    "print(max(registers.values()));\n"
   ]
  }
 ],
 "metadata": {
  "kernelspec": {
   "display_name": "Python 3",
   "language": "python",
   "name": "python3"
  },
  "language_info": {
   "codemirror_mode": {
    "name": "ipython",
    "version": 3
   },
   "file_extension": ".py",
   "mimetype": "text/x-python",
   "name": "python",
   "nbconvert_exporter": "python",
   "pygments_lexer": "ipython3",
   "version": "3.6.2"
  }
 },
 "nbformat": 4,
 "nbformat_minor": 2
}
