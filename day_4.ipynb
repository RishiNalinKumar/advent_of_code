{
 "cells": [
  {
   "cell_type": "markdown",
   "metadata": {},
   "source": [
    "# --- Day 4: High-Entropy Passphrases ---"
   ]
  },
  {
   "cell_type": "code",
   "execution_count": 10,
   "metadata": {
    "collapsed": true
   },
   "outputs": [],
   "source": [
    "def count_valid_passwords(passwords,word_check):\n",
    "    counter = 0;\n",
    "    for password in passwords:\n",
    "        if count_repeats_in_password(password,word_check)>0:\n",
    "            counter+=1;\n",
    "    return len(passwords)-counter\n",
    "\n",
    "def count_repeats_in_password(password,word_check):\n",
    "    total = 0;\n",
    "    if count_type=='characters':\n",
    "        p = list(password)\n",
    "    else: \n",
    "        p = str(password).split(' ')\n",
    "    l = len(p)-1\n",
    "    for i in range(0,l):\n",
    "        if p[i]==' ':\n",
    "            total = 0;\n",
    "        for j in range(i+1,l+1):\n",
    "            if check_words_for(p[i],p[j],word_check):\n",
    "                total+=1;\n",
    "    return total\n",
    "\n",
    "def check_words_for(w,v,word_check):\n",
    "\n",
    "    if word_check=='equality':                           \n",
    "        r = (v==w);\n",
    "    elif word_check=='anagram':\n",
    "        r = (sorted(v)==sorted(w));    \n",
    "    return r"
   ]
  },
  {
   "cell_type": "code",
   "execution_count": 11,
   "metadata": {},
   "outputs": [
    {
     "name": "stdout",
     "output_type": "stream",
     "text": [
      "0\n"
     ]
    }
   ],
   "source": [
    "#unit testing part 1\n",
    "tests = ['abcde fghij',False],['abcde xyz ecdab',True],['iiii oiii ooii oooi oooo',False],['oiii ioii iioi iiio',True]\n",
    "word_check = 'anagram'\n",
    "errors=0;\n",
    "for test in tests: \n",
    "    result = count_repeats_in_password(test[0],word_check)>0;\n",
    "    if not(result==test[1]):\n",
    "        errors+=1\n",
    "print(errors)"
   ]
  },
  {
   "cell_type": "code",
   "execution_count": 12,
   "metadata": {},
   "outputs": [
    {
     "name": "stdout",
     "output_type": "stream",
     "text": [
      "0\n"
     ]
    }
   ],
   "source": [
    "#unit testing part 2\n",
    "tests = ['aa bb cc dd ee',0],['aa bb cc dd aa',1],['aa bb cc dd aaa',0]\n",
    "word_check = 'equality'\n",
    "errors=0;\n",
    "for test in tests: \n",
    "    result = count_repeats_in_password(test[0],word_check);\n",
    "    if not(result==test[1]):\n",
    "        errors+=1\n",
    "print(errors)"
   ]
  },
  {
   "cell_type": "code",
   "execution_count": null,
   "metadata": {},
   "outputs": [],
   "source": [
    "file = 'data/2017_advent_of_code_day_4.txt'\n",
    "passwords = open(file, 'r').read().split('\\n')\n",
    "\n",
    "word_check = 'equality'\n",
    "print(\"equality: \" + str(count_valid_passwords(passwords,word_check)))\n",
    "\n",
    "word_check = 'anagram'\n",
    "print(\"anagram: \" + str(count_valid_passwords(passwords,word_check)))"
   ]
  }
 ],
 "metadata": {
  "kernelspec": {
   "display_name": "Python 3",
   "language": "python",
   "name": "python3"
  },
  "language_info": {
   "codemirror_mode": {
    "name": "ipython",
    "version": 3
   },
   "file_extension": ".py",
   "mimetype": "text/x-python",
   "name": "python",
   "nbconvert_exporter": "python",
   "pygments_lexer": "ipython3",
   "version": "3.6.2"
  }
 },
 "nbformat": 4,
 "nbformat_minor": 2
}
