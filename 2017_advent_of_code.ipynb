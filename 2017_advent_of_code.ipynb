{
 "cells": [
  {
   "cell_type": "code",
   "execution_count": 95,
   "metadata": {},
   "outputs": [],
   "source": [
    "import pandas as pd\n",
    "import numpy as np\n",
    "import random\n",
    "\n",
    "def sum_duplicates(number_string,dist):\n",
    "    total = 0;\n",
    "    l = len(str(number_string));\n",
    "    nums = list(str(number_string));\n",
    "    nums +=nums;\n",
    "\n",
    "    for i in range(0,l):\n",
    "        if nums[i]==nums[i+dist]:\n",
    "            total += int(nums[i]);\n",
    "    \n",
    "    return total\n",
    "\n",
    "def matrix_checksum(matrix_file):\n",
    "    total = 0;\n",
    "    data = np.loadtxt(matrix_file,dtype=int);\n",
    "    for row in data:\n",
    "        total+=(row.max()-row.min());\n",
    "    return total\n",
    "\n",
    "def matrix_checksum_modulo(matrix_file):\n",
    "    total = 0;\n",
    "    data = np.loadtxt(matrix_file,dtype=int);\n",
    "    data.sort(axis=1)\n",
    "    for row in data:\n",
    "        l = len(row)\n",
    "        for d in range (0,l):\n",
    "            for n in range(d+1,l):\n",
    "                if (row[n]%row[d])==0:\n",
    "                    total+=(row[n]/row[d]);\n",
    "                    break\n",
    "\n",
    "    return int(total)\n",
    "\n",
    "def search_spiral_for(search_for,increment_rule,return_property):\n",
    "\n",
    "    spiral=list([])\n",
    "    x=0; y=0; num=1; counter = 1; sign=-1;\n",
    "    spiral+=list([[x,y,num]])\n",
    "    while num<search_for:\n",
    "        sign=-1*sign;\n",
    "        for n in range(0,counter):\n",
    "            if num>=search_for:\n",
    "                break\n",
    "            x= x+1*sign; \n",
    "            if increment_rule == 'cumm_neighbours':\n",
    "                num=sum_nearest_neighbors(spiral,list([x,y]));\n",
    "            else:\n",
    "                num+=1;\n",
    "            spiral+=list([[x,y,num]]);\n",
    "        for m in range(0,counter):\n",
    "            if num>=search_for:\n",
    "                break\n",
    "            y = y+1*sign; \n",
    "            if increment_rule == 'cumm_neighbours':\n",
    "                num=sum_nearest_neighbors(spiral,list([x,y]));\n",
    "            else:\n",
    "                num+=1;\n",
    "            spiral+=list([[x,y,num]]);\n",
    "        counter+=1;\n",
    "        \n",
    "    if return_property==\"last_distance\":\n",
    "        r = abs(spiral[-1][0])+abs(spiral[-1][1])\n",
    "    else:\n",
    "        r = spiral[-1][2]\n",
    "\n",
    "    return r\n",
    "\n",
    "def sum_nearest_neighbors(spiral,location):\n",
    "    total = 0;\n",
    "    x_0=location[0]; y_0=location[1];\n",
    "    for point in spiral:\n",
    "        if (abs(point[0]-location[0])<=1) and (abs(point[1]-location[1])<=1):\n",
    "            total+=point[2];\n",
    "                \n",
    "    return total\n",
    "\n",
    "def count_duplicates(number_string,dist):\n",
    "    total = 0;\n",
    "    l = len(str(number_string));\n",
    "    nums = list(str(number_string));\n",
    "    nums +=nums;\n",
    "\n",
    "    for i in range(0,l):\n",
    "        if nums[i]==nums[i+dist]:\n",
    "            total += int(nums[i]);\n",
    "    \n",
    "    return total\n",
    "\n",
    "def count_valid_passwords(passwords,count_type,word_check):\n",
    "    counter = 0;\n",
    "    for password in passwords:\n",
    "        if count_repeats_in_password(password,count_type,word_check)>0:\n",
    "            counter+=1;\n",
    "    return len(passwords)-counter\n",
    "\n",
    "def count_repeats_in_password(password,count_type,word_check):\n",
    "    total = 0;\n",
    "    if count_type=='characters':\n",
    "        p = list(password)\n",
    "    else: \n",
    "        p = str(password).split(' ')\n",
    "    l = len(p)-1\n",
    "    for i in range(0,l):\n",
    "        if p[i]==' ':\n",
    "            total = 0;\n",
    "        for j in range(i+1,l+1):\n",
    "            if check_words_for(p[i],p[j],word_check):\n",
    "                total+=1;\n",
    "    return total\n",
    "\n",
    "def check_words_for(w,v,word_check):\n",
    "\n",
    "    if word_check=='equality':                           \n",
    "        r = (v==w);\n",
    "    elif word_check=='anagram':\n",
    "        r = (sorted(v)==sorted(w));    \n",
    "    return r\n",
    "                    \n",
    "def count_steps_to_pop_out(instructions):\n",
    "    l = len(instructions); steps = 0; index = 0;\n",
    "    while (index<l) and (index>-1): \n",
    "        pluck = int(instructions[index]);\n",
    "        if pluck >=3:\n",
    "            offset=-1;\n",
    "        else:\n",
    "            offset=1;\n",
    "        instructions[index]=pluck+offset;\n",
    "        index += pluck;\n",
    "        steps+=1;\n",
    "    return steps;\n",
    "\n",
    "\n",
    "def generate_memory_bank_loop(memory_banks):\n",
    "\n",
    "    loop=[]; loop+=[np.loadtxt(file,dtype=int).tolist()]; counter = 1;\n",
    "    while True:\n",
    "        memory_banks = shuffle_blocks(memory_banks);\n",
    "        if memory_banks.tolist() in loop:\n",
    "            break\n",
    "        else:\n",
    "            loop+=[memory_banks.tolist()];\n",
    "            counter+=1;\n",
    "\n",
    "    return loop\n",
    "\n",
    "def shuffle_blocks(memory_banks):\n",
    "    l = len(memory_banks); pointer = memory_banks.argmax()\n",
    "    distr_blocks = memory_banks[pointer];\n",
    "    memory_banks[pointer]=0; counter = pointer+1;\n",
    "    while distr_blocks>0:\n",
    "        memory_banks[counter%l]+=1;\n",
    "        distr_blocks-=1; counter+=1;\n",
    "    return memory_banks"
   ]
  },
  {
   "cell_type": "code",
   "execution_count": 102,
   "metadata": {},
   "outputs": [
    {
     "name": "stdout",
     "output_type": "stream",
     "text": [
      "redistribution cycles: 7864\n",
      "cycle length: 1695\n"
     ]
    }
   ],
   "source": [
    "file= 'data/2017_advent_of_code_day_6.txt'\n",
    "memory_banks = np.loadtxt(file,dtype=int)\n",
    "loop = generate_memory_bank_loop(memory_banks)\n",
    "print(\"redistribution cycles: \" + str(len(loop)));\n",
    "print(\"cycle length: \" + str(len(generate_memory_bank_loop(np.asarray(memory_banks)))-1))"
   ]
  },
  {
   "cell_type": "code",
   "execution_count": 33,
   "metadata": {},
   "outputs": [
    {
     "name": "stdout",
     "output_type": "stream",
     "text": [
      "0\n"
     ]
    }
   ],
   "source": [
    "#unit_testing\n",
    "tests = [[list([0,3, 0, 1 ,-3]),10]];\n",
    "errors=0;\n",
    "for test in tests: \n",
    "    result = count_steps_to_pop_out(test[0]);\n",
    "    if not(result==test[1]):\n",
    "        errors+=1\n",
    "print(errors);"
   ]
  },
  {
   "cell_type": "code",
   "execution_count": 14,
   "metadata": {},
   "outputs": [
    {
     "name": "stdout",
     "output_type": "stream",
     "text": [
      "31150702\n"
     ]
    }
   ],
   "source": [
    "file = 'data/2017_advent_of_code_day_5.txt'\n",
    "instructions = open(file, 'r').read().split('\\n');\n",
    "print(count_steps_to_pop_out(instructions));"
   ]
  },
  {
   "cell_type": "code",
   "execution_count": 65,
   "metadata": {},
   "outputs": [
    {
     "name": "stdout",
     "output_type": "stream",
     "text": [
      "0\n"
     ]
    }
   ],
   "source": [
    "#unit testing\n",
    "tests = ['abcde fghij',False],['abcde xyz ecdab',True],['iiii oiii ooii oooi oooo',False],['oiii ioii iioi iiio',True]\n",
    "count_type = 'words'\n",
    "word_check = 'anagram'\n",
    "errors=0;\n",
    "for test in tests: \n",
    "    result = count_repeats_in_password(test[0],count_type,word_check)>0;\n",
    "    #print(test[0],count_repeats_in_password(test[0],count_type,word_check)>0)\n",
    "    if not(result==test[1]):\n",
    "        errors+=1\n",
    "print(errors)"
   ]
  },
  {
   "cell_type": "code",
   "execution_count": 67,
   "metadata": {},
   "outputs": [
    {
     "name": "stdout",
     "output_type": "stream",
     "text": [
      "223\n"
     ]
    }
   ],
   "source": [
    "file = '/Users/rishi/Desktop/advent_of_code/2017_advent_of_code_day_3.txt'\n",
    "passwords = open(file, 'r').read().split('\\n')\n",
    "count_type = 'words'\n",
    "word_check = 'anagram'\n",
    "print(count_valid_passwords(passwords,count_type,word_check))"
   ]
  },
  {
   "cell_type": "code",
   "execution_count": 2,
   "metadata": {},
   "outputs": [
    {
     "name": "stdout",
     "output_type": "stream",
     "text": [
      "0\n"
     ]
    }
   ],
   "source": [
    "#unit testing\n",
    "tests = ['aa bb cc dd ee',0],['aa bb cc dd aa',1],['aa bb cc dd aaa',0]\n",
    "count_type = 'words'\n",
    "word_check = 'equality'\n",
    "errors=0;\n",
    "for test in tests: \n",
    "    result = count_repeats_in_password(test[0],count_type,word_check);\n",
    "    if not(result==test[1]):\n",
    "        errors+=1\n",
    "print(errors)"
   ]
  },
  {
   "cell_type": "code",
   "execution_count": 4,
   "metadata": {},
   "outputs": [
    {
     "name": "stdout",
     "output_type": "stream",
     "text": [
      "451\n"
     ]
    }
   ],
   "source": [
    "file = '/Users/rishi/Desktop/advent_of_code/2017_advent_of_code_day_3.txt'\n",
    "passwords = open(file, 'r').read().split('\\n')\n",
    "count_type = 'words'\n",
    "word_check = 'equality'\n",
    "print(count_valid_passwords(passwords,count_type,word_check))"
   ]
  },
  {
   "cell_type": "code",
   "execution_count": 16,
   "metadata": {},
   "outputs": [
    {
     "name": "stdout",
     "output_type": "stream",
     "text": [
      "0\n"
     ]
    }
   ],
   "source": [
    "#unit_testing\n",
    "tests = [[12,3],[23,2],[1024,31]]\n",
    "errors=0\n",
    "for test in tests: \n",
    "    increment_rule = \"add_one\"\n",
    "    return_property = \"last_distance\"\n",
    "    search_for = test[0]\n",
    "    result = search_spiral_for(search_for,increment_rule,return_property)\n",
    "    if not(result==test[1]):\n",
    "        errors+=1\n",
    "print(errors)"
   ]
  },
  {
   "cell_type": "code",
   "execution_count": 17,
   "metadata": {},
   "outputs": [
    {
     "name": "stdout",
     "output_type": "stream",
     "text": [
      "326\n",
      "363010\n"
     ]
    }
   ],
   "source": [
    "#Day 3 Part 1\n",
    "increment_rule = \"add_one\"; return_property = \"last_distance\";\n",
    "search_for = 361527;\n",
    "print(search_spiral_for(search_for,increment_rule,return_property))\n",
    "\n",
    "#Day 3 Part 2\n",
    "increment_rule = \"cumm_neighbours\"; return_property = \"last_value\";\n",
    "search_for = 361527;\n",
    "print(search_spiral_for(search_for,increment_rule,return_property))"
   ]
  },
  {
   "cell_type": "code",
   "execution_count": 18,
   "metadata": {},
   "outputs": [
    {
     "name": "stdout",
     "output_type": "stream",
     "text": [
      "0\n"
     ]
    }
   ],
   "source": [
    "#unit_testing\n",
    "tests = [['1212',6],['1221',0],[123425,4],[123123,12],[12131415,4]]\n",
    "errors=0\n",
    "for test in tests: \n",
    "    dist = int(len(str(test[0]))/2)\n",
    "    result = sum_duplicates(test[0],dist)\n",
    "    if not(result==test[1]):\n",
    "        errors+=1\n",
    "print(errors)\n"
   ]
  },
  {
   "cell_type": "code",
   "execution_count": 20,
   "metadata": {},
   "outputs": [
    {
     "name": "stdout",
     "output_type": "stream",
     "text": [
      "1024\n"
     ]
    }
   ],
   "source": [
    "file = '/Users/rishi/Desktop/advent_of_code/2017_advent_of_code_day_1.txt'\n",
    "number_string = open(file, 'r').read()\n",
    "dist = int(len(str(number_string))/2)\n",
    "print(sum_duplicates(number_string,dist))\n",
    "\n"
   ]
  },
  {
   "cell_type": "code",
   "execution_count": 44,
   "metadata": {},
   "outputs": [
    {
     "name": "stdout",
     "output_type": "stream",
     "text": [
      "0\n"
     ]
    }
   ],
   "source": [
    "#unit_testing\n",
    "tests = [['1122',3],['1111',4],[1234,0],[91212129,9]]\n",
    "errors=0\n",
    "for test in tests: \n",
    "    dist = 1\n",
    "    result = sum_duplicates(test[0],dist)\n",
    "    if not(result==test[1]):\n",
    "        errors+=1\n",
    "print(errors)"
   ]
  },
  {
   "cell_type": "code",
   "execution_count": 19,
   "metadata": {},
   "outputs": [
    {
     "name": "stdout",
     "output_type": "stream",
     "text": [
      "1171\n"
     ]
    }
   ],
   "source": [
    "file = '/Users/rishi/Desktop/advent_of_code/2017_advent_of_code_day_1.txt'\n",
    "number_string = open(file, 'r').read()\n",
    "dist = 1\n",
    "print(sum_duplicates(number_string,dist))\n"
   ]
  },
  {
   "cell_type": "code",
   "execution_count": 21,
   "metadata": {},
   "outputs": [
    {
     "name": "stdout",
     "output_type": "stream",
     "text": [
      "0\n"
     ]
    }
   ],
   "source": [
    "#unit_testing\n",
    "file = '/Users/rishi/Desktop/advent_of_code/2017_advent_of_code_day_2_test.txt'\n",
    "tests = [[file,18]]\n",
    "\n",
    "errors=0\n",
    "for test in tests:\n",
    "    result = matrix_checksum(test[0])\n",
    "    if not(result==test[1]):\n",
    "        errors+=1\n",
    "print(errors)"
   ]
  },
  {
   "cell_type": "code",
   "execution_count": 22,
   "metadata": {},
   "outputs": [
    {
     "name": "stdout",
     "output_type": "stream",
     "text": [
      "45158\n"
     ]
    }
   ],
   "source": [
    "file = '/Users/rishi/Desktop/advent_of_code/2017_advent_of_code_day_2.txt'\n",
    "print(matrix_checksum(file))"
   ]
  },
  {
   "cell_type": "code",
   "execution_count": 23,
   "metadata": {},
   "outputs": [
    {
     "name": "stdout",
     "output_type": "stream",
     "text": [
      "0\n"
     ]
    }
   ],
   "source": [
    "#unit_testing\n",
    "file = '/Users/rishi/Desktop/advent_of_code/2017_advent_of_code_day_2_test_2.txt'\n",
    "tests = [[file,9]]\n",
    "\n",
    "errors=0\n",
    "for test in tests:\n",
    "    result = matrix_checksum_modulo(test[0])\n",
    "    if not(result==test[1]):\n",
    "        errors+=1\n",
    "print(errors)"
   ]
  },
  {
   "cell_type": "code",
   "execution_count": 24,
   "metadata": {},
   "outputs": [
    {
     "name": "stdout",
     "output_type": "stream",
     "text": [
      "294\n"
     ]
    }
   ],
   "source": [
    "file = '/Users/rishi/Desktop/advent_of_code/2017_advent_of_code_day_2.txt'\n",
    "print(matrix_checksum_modulo(file))"
   ]
  },
  {
   "cell_type": "code",
   "execution_count": null,
   "metadata": {
    "collapsed": true
   },
   "outputs": [],
   "source": []
  }
 ],
 "metadata": {
  "kernelspec": {
   "display_name": "Python 3",
   "language": "python",
   "name": "python3"
  },
  "language_info": {
   "codemirror_mode": {
    "name": "ipython",
    "version": 3
   },
   "file_extension": ".py",
   "mimetype": "text/x-python",
   "name": "python",
   "nbconvert_exporter": "python",
   "pygments_lexer": "ipython3",
   "version": "3.6.2"
  }
 },
 "nbformat": 4,
 "nbformat_minor": 2
}
