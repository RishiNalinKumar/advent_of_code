{
 "cells": [
  {
   "cell_type": "markdown",
   "metadata": {},
   "source": [
    "# --- Day 3: Spiral Memory ---"
   ]
  },
  {
   "cell_type": "code",
   "execution_count": 2,
   "metadata": {
    "collapsed": true
   },
   "outputs": [],
   "source": [
    "def search_spiral_for(search_for,increment_rule,return_property):\n",
    "\n",
    "    spiral=list([])\n",
    "    x=0; y=0; num=1; counter = 1; sign=-1;\n",
    "    spiral+=list([[x,y,num]])\n",
    "    while num<search_for:\n",
    "        sign=-1*sign;\n",
    "        for n in range(0,counter):\n",
    "            if num>=search_for:\n",
    "                break\n",
    "            x= x+1*sign; \n",
    "            if increment_rule == 'cumm_neighbours':\n",
    "                num=sum_nearest_neighbors(spiral,list([x,y]));\n",
    "            else:\n",
    "                num+=1;\n",
    "            spiral+=list([[x,y,num]]);\n",
    "        for m in range(0,counter):\n",
    "            if num>=search_for:\n",
    "                break\n",
    "            y = y+1*sign; \n",
    "            if increment_rule == 'cumm_neighbours':\n",
    "                num=sum_nearest_neighbors(spiral,list([x,y]));\n",
    "            else:\n",
    "                num+=1;\n",
    "            spiral+=list([[x,y,num]]);\n",
    "        counter+=1;\n",
    "        \n",
    "    if return_property==\"last_distance\":\n",
    "        r = abs(spiral[-1][0])+abs(spiral[-1][1])\n",
    "    else:\n",
    "        r = spiral[-1][2]\n",
    "\n",
    "    return r\n",
    "\n",
    "def sum_nearest_neighbors(spiral,location):\n",
    "    total = 0;\n",
    "    x_0=location[0]; y_0=location[1];\n",
    "    for point in spiral:\n",
    "        if (abs(point[0]-location[0])<=1) and (abs(point[1]-location[1])<=1):\n",
    "            total+=point[2];\n",
    "                \n",
    "    return total"
   ]
  },
  {
   "cell_type": "code",
   "execution_count": 3,
   "metadata": {},
   "outputs": [
    {
     "name": "stdout",
     "output_type": "stream",
     "text": [
      "0\n"
     ]
    }
   ],
   "source": [
    "#Unit testing\n",
    "tests = [[12,3],[23,2],[1024,31]]\n",
    "errors=0\n",
    "for test in tests: \n",
    "    increment_rule = \"add_one\"\n",
    "    return_property = \"last_distance\"\n",
    "    search_for = test[0]\n",
    "    result = search_spiral_for(search_for,increment_rule,return_property)\n",
    "    if not(result==test[1]):\n",
    "        errors+=1\n",
    "print(errors)"
   ]
  },
  {
   "cell_type": "code",
   "execution_count": null,
   "metadata": {},
   "outputs": [],
   "source": [
    "search_for = 361527;\n",
    "increment_rule = \"add_one\"; return_property = \"last_distance\";\n",
    "print(\"search spiral (+1): \" + str(search_spiral_for(search_for,increment_rule,return_property)))\n",
    "increment_rule = \"cumm_neighbours\"; return_property = \"last_value\";\n",
    "print(\"search spiral (cummulative): \" + str(search_spiral_for(search_for,increment_rule,return_property)))"
   ]
  },
  {
   "cell_type": "code",
   "execution_count": null,
   "metadata": {
    "collapsed": true
   },
   "outputs": [],
   "source": []
  }
 ],
 "metadata": {
  "kernelspec": {
   "display_name": "Python 3",
   "language": "python",
   "name": "python3"
  },
  "language_info": {
   "codemirror_mode": {
    "name": "ipython",
    "version": 3
   },
   "file_extension": ".py",
   "mimetype": "text/x-python",
   "name": "python",
   "nbconvert_exporter": "python",
   "pygments_lexer": "ipython3",
   "version": "3.6.2"
  }
 },
 "nbformat": 4,
 "nbformat_minor": 2
}
