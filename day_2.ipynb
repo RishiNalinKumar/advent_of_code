{
 "cells": [
  {
   "cell_type": "markdown",
   "metadata": {},
   "source": [
    "# --- Day 2: Corruption Checksum ---"
   ]
  },
  {
   "cell_type": "code",
   "execution_count": 4,
   "metadata": {
    "collapsed": true
   },
   "outputs": [],
   "source": [
    "import numpy as np\n",
    "\n",
    "def matrix_checksum(matrix_file):\n",
    "    total = 0;\n",
    "    data = np.loadtxt(matrix_file,dtype=int);\n",
    "    for row in data:\n",
    "        total+=(row.max()-row.min());\n",
    "    return total\n",
    "\n",
    "def matrix_checksum_modulo(matrix_file):\n",
    "    total = 0;\n",
    "    data = np.loadtxt(matrix_file,dtype=int);\n",
    "    data.sort(axis=1)\n",
    "    for row in data:\n",
    "        l = len(row)\n",
    "        for d in range (0,l):\n",
    "            for n in range(d+1,l):\n",
    "                if (row[n]%row[d])==0:\n",
    "                    total+=(row[n]/row[d]);\n",
    "                    break\n",
    "\n",
    "    return int(total)"
   ]
  },
  {
   "cell_type": "code",
   "execution_count": 5,
   "metadata": {},
   "outputs": [
    {
     "name": "stdout",
     "output_type": "stream",
     "text": [
      "0\n"
     ]
    }
   ],
   "source": [
    "#unit_testing\n",
    "file = 'data/2017_advent_of_code_day_2_test.txt'\n",
    "tests = [[file,18]]\n",
    "\n",
    "errors=0\n",
    "for test in tests:\n",
    "    result = matrix_checksum(test[0])\n",
    "    if not(result==test[1]):\n",
    "        errors+=1\n",
    "print(errors)"
   ]
  },
  {
   "cell_type": "code",
   "execution_count": 6,
   "metadata": {},
   "outputs": [
    {
     "name": "stdout",
     "output_type": "stream",
     "text": [
      "0\n"
     ]
    }
   ],
   "source": [
    "#unit_testing\n",
    "file = 'data/2017_advent_of_code_day_2_test_2.txt'\n",
    "tests = [[file,9]]\n",
    "errors=0\n",
    "for test in tests:\n",
    "    result = matrix_checksum_modulo(test[0])\n",
    "    if not(result==test[1]):\n",
    "        errors+=1\n",
    "print(errors)"
   ]
  },
  {
   "cell_type": "code",
   "execution_count": null,
   "metadata": {},
   "outputs": [],
   "source": [
    "file = 'data/2017_advent_of_code_day_2.txt'\n",
    "print(\"checksum: \" +str(matrix_checksum(file)))\n",
    "print(\"checksum modulo: \" + str(matrix_checksum_modulo(file)))"
   ]
  }
 ],
 "metadata": {
  "kernelspec": {
   "display_name": "Python 3",
   "language": "python",
   "name": "python3"
  },
  "language_info": {
   "codemirror_mode": {
    "name": "ipython",
    "version": 3
   },
   "file_extension": ".py",
   "mimetype": "text/x-python",
   "name": "python",
   "nbconvert_exporter": "python",
   "pygments_lexer": "ipython3",
   "version": "3.6.2"
  }
 },
 "nbformat": 4,
 "nbformat_minor": 2
}
