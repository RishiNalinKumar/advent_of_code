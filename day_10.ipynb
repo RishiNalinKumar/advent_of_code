{
 "cells": [
  {
   "cell_type": "markdown",
   "metadata": {},
   "source": [
    "# --- Day 10: Knot Hash ---"
   ]
  },
  {
   "cell_type": "code",
   "execution_count": 30,
   "metadata": {},
   "outputs": [],
   "source": [
    "def generate_knot_hash(lengths,m,convert,rounds):\n",
    "    \n",
    "    sparse_hash = generate_sparse_hash(lengths,m,convert,rounds);\n",
    "    dense_hash = generate_dense_hash(sparse_hash);\n",
    "    knot_hash = hash_to_hex(dense_hash);\n",
    "    return knot_hash\n",
    "\n",
    "def generate_sparse_hash(lengths,m,convert,rounds):\n",
    "    pos = 0; skip = 0; counter = 1;\n",
    "    if convert:\n",
    "        lengths = convert_list_ascii(lengths)[:];\n",
    "    lis = list([x for x in range(m)]);\n",
    "    while counter<=rounds:\n",
    "        mod = len(lis); \n",
    "        for l in lengths:\n",
    "            list_sorted = lis[:];\n",
    "            if l !=1:\n",
    "                for j in range(0,l):\n",
    "                    list_sorted[(pos+j) % mod]=lis[(pos+l-(j+1))% mod];\n",
    "            pos = (pos+(l+skip))%mod;\n",
    "            skip+=1;\n",
    "            lis[:]=list_sorted[:];\n",
    "        counter+=1;\n",
    "    print(\"product \", lis[0]*lis[1])\n",
    "    return lis\n",
    "\n",
    "def convert_list_ascii(lengths):\n",
    "    r = [ord(x) for x in str(lengths)]+[17, 31, 73, 47, 23];\n",
    "    return r\n",
    "\n",
    "def generate_dense_hash(sparse_hash):\n",
    "    r=0; block_length = 16; \n",
    "    h=[]; j=0;\n",
    "    partitions=[];\n",
    "    while j < len(sparse_hash):\n",
    "        partitions+=[sparse_hash[j:(j + block_length)]]\n",
    "        j += block_length;\n",
    "    for partition in partitions:\n",
    "        r = 0;\n",
    "        for n in partition:\n",
    "            r=r^n;\n",
    "        h+=[r];\n",
    "    return h\n",
    "\n",
    "def hash_to_hex(dense_hash):\n",
    "    s =\"\"\n",
    "    for x in dense_hash:\n",
    "        s+=hex(x)[2:].zfill(2);\n",
    "    return s"
   ]
  },
  {
   "cell_type": "code",
   "execution_count": 31,
   "metadata": {},
   "outputs": [
    {
     "name": "stdout",
     "output_type": "stream",
     "text": [
      "product  55\n",
      "product  86\n",
      "0\n"
     ]
    }
   ],
   "source": [
    "#unit_testing\n",
    "tests = [['1,2,3','3efbe78a8d82f29979031a4aa0b16a9d'],['AoC 2017','33efeb34ea91902bb2f59c9920caa6cd']];\n",
    "errors=0;\n",
    "for test in tests: \n",
    "    m= 256; convert = True; rounds = 64;\n",
    "    result = generate_knot_hash(test[0],m,convert,rounds);\n",
    "    if not(result==test[1]):\n",
    "        errors+=1\n",
    "print(errors);"
   ]
  },
  {
   "cell_type": "code",
   "execution_count": 33,
   "metadata": {},
   "outputs": [
    {
     "name": "stdout",
     "output_type": "stream",
     "text": [
      "product  64\n",
      "23234babdc6afa036749cfa9b597de1b\n"
     ]
    }
   ],
   "source": [
    "lengths = '18,1,0,161,255,137,254,252,14,95,165,33,181,168,2,188'\n",
    "m= 256; convert = True; rounds = 64;\n",
    "print(generate_knot_hash(lengths,m,convert,rounds))"
   ]
  }
 ],
 "metadata": {
  "kernelspec": {
   "display_name": "Python 3",
   "language": "python",
   "name": "python3"
  },
  "language_info": {
   "codemirror_mode": {
    "name": "ipython",
    "version": 3
   },
   "file_extension": ".py",
   "mimetype": "text/x-python",
   "name": "python",
   "nbconvert_exporter": "python",
   "pygments_lexer": "ipython3",
   "version": "3.6.2"
  }
 },
 "nbformat": 4,
 "nbformat_minor": 2
}
