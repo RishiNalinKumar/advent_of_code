{
 "cells": [
  {
   "cell_type": "markdown",
   "metadata": {},
   "source": [
    "# --- Day 9: Stream Processing ---"
   ]
  },
  {
   "cell_type": "code",
   "execution_count": 110,
   "metadata": {
    "collapsed": false
   },
   "outputs": [],
   "source": [
    "import re\n",
    "\n",
    "def generate_score(text):\n",
    "    cleaned_text = re.sub('!(.)','',text)\n",
    "    stream = re.sub(r'(?<=<)(.*?)(?=>)','',cleaned_text)\n",
    "    print(\"garbage removed: \" + str(len(cleaned_text)-len(stream)))\n",
    "    score = 0; level = 0; \n",
    "    for index,char in enumerate(list(stream)):\n",
    "        if char=='{':\n",
    "            level+=1;\n",
    "            score+=level;\n",
    "        elif char=='}':\n",
    "            level-=1;\n",
    "    return score"
   ]
  },
  {
   "cell_type": "code",
   "execution_count": 111,
   "metadata": {
    "collapsed": false
   },
   "outputs": [
    {
     "name": "stdout",
     "output_type": "stream",
     "text": [
      "garbage removed: 0\n",
      "garbage removed: 0\n",
      "garbage removed: 0\n",
      "garbage removed: 0\n",
      "garbage removed: 4\n",
      "garbage removed: 8\n",
      "garbage removed: 0\n",
      "garbage removed: 17\n",
      "0\n"
     ]
    }
   ],
   "source": [
    "#unit_testing\n",
    "tests = [['{}',1],['{{{}}}',6],['{{},{}}',5],['{{{},{},{{}}}}',16],['{<a>,<a>,<a>,<a>}',1],['{{<ab>},{<ab>},{<ab>},{<ab>}}',9],['{{<!!>},{<!!>},{<!!>},{<!!>}}',9],['{{<a!>},{<a!>},{<a!>},{<ab>}}',3]]\n",
    "errors=0\n",
    "for test in tests: \n",
    "    result = generate_score(test[0])\n",
    "    if not(result==test[1]):\n",
    "        errors+=1\n",
    "print(errors)"
   ]
  },
  {
   "cell_type": "code",
   "execution_count": 113,
   "metadata": {
    "collapsed": false
   },
   "outputs": [
    {
     "name": "stdout",
     "output_type": "stream",
     "text": [
      "garbage removed: 6425\n",
      "stream score: 12803\n"
     ]
    }
   ],
   "source": [
    "file = 'data/2017_advent_of_code_day_9.txt'\n",
    "stream = open(file, 'r').read()\n",
    "score = generate_score(stream)\n",
    "print(\"stream score: \" + str(score))"
   ]
  }
 ],
 "metadata": {
  "kernelspec": {
   "display_name": "Python 3",
   "language": "python",
   "name": "python3"
  },
  "language_info": {
   "codemirror_mode": {
    "name": "ipython",
    "version": 3
   },
   "file_extension": ".py",
   "mimetype": "text/x-python",
   "name": "python",
   "nbconvert_exporter": "python",
   "pygments_lexer": "ipython3",
   "version": "3.5.1"
  }
 },
 "nbformat": 4,
 "nbformat_minor": 2
}
